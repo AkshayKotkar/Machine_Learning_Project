{
 "cells": [
  {
   "cell_type": "markdown",
   "id": "63539f97",
   "metadata": {},
   "source": [
    "# House Price Prediction \n",
    "### Using Linear Regression Model"
   ]
  },
  {
   "cell_type": "code",
   "execution_count": 1,
   "id": "b1f5d4d0",
   "metadata": {},
   "outputs": [],
   "source": [
    "# Import Libraries\n",
    "import pandas as pd\n",
    "import numpy as np \n",
    "import matplotlib.pyplot as plt\n",
    "import seaborn as sns\n",
    "\n",
    "from sklearn.model_selection import train_test_split\n",
    "from sklearn.preprocessing import LabelEncoder, StandardScaler\n",
    "from sklearn.linear_model import LinearRegression\n",
    "from sklearn.metrics import mean_squared_error, mean_absolute_percentage_error"
   ]
  },
  {
   "cell_type": "code",
   "execution_count": 2,
   "id": "cdc0cec6",
   "metadata": {},
   "outputs": [],
   "source": [
    "# Import Training DataSet\n",
    "Train = pd.read_csv(r\"C:\\Users\\aksha\\Desktop\\Internship\\Bharat Intern\\House Price Prediction\\Train.csv\")"
   ]
  },
  {
   "cell_type": "code",
   "execution_count": 3,
   "id": "507cea23",
   "metadata": {
    "scrolled": false
   },
   "outputs": [
    {
     "data": {
      "text/html": [
       "<div>\n",
       "<style scoped>\n",
       "    .dataframe tbody tr th:only-of-type {\n",
       "        vertical-align: middle;\n",
       "    }\n",
       "\n",
       "    .dataframe tbody tr th {\n",
       "        vertical-align: top;\n",
       "    }\n",
       "\n",
       "    .dataframe thead th {\n",
       "        text-align: right;\n",
       "    }\n",
       "</style>\n",
       "<table border=\"1\" class=\"dataframe\">\n",
       "  <thead>\n",
       "    <tr style=\"text-align: right;\">\n",
       "      <th></th>\n",
       "      <th>POSTED_BY</th>\n",
       "      <th>UNDER_CONSTRUCTION</th>\n",
       "      <th>RERA</th>\n",
       "      <th>BHK_NO.</th>\n",
       "      <th>BHK_OR_RK</th>\n",
       "      <th>SQUARE_FT</th>\n",
       "      <th>READY_TO_MOVE</th>\n",
       "      <th>RESALE</th>\n",
       "      <th>ADDRESS</th>\n",
       "      <th>LONGITUDE</th>\n",
       "      <th>LATITUDE</th>\n",
       "      <th>TARGET(PRICE_IN_LACS)</th>\n",
       "    </tr>\n",
       "  </thead>\n",
       "  <tbody>\n",
       "    <tr>\n",
       "      <th>0</th>\n",
       "      <td>Owner</td>\n",
       "      <td>0</td>\n",
       "      <td>0</td>\n",
       "      <td>2</td>\n",
       "      <td>BHK</td>\n",
       "      <td>1300.236407</td>\n",
       "      <td>1</td>\n",
       "      <td>1</td>\n",
       "      <td>Ksfc Layout,Bangalore</td>\n",
       "      <td>12.969910</td>\n",
       "      <td>77.597960</td>\n",
       "      <td>55.0</td>\n",
       "    </tr>\n",
       "    <tr>\n",
       "      <th>1</th>\n",
       "      <td>Dealer</td>\n",
       "      <td>0</td>\n",
       "      <td>0</td>\n",
       "      <td>2</td>\n",
       "      <td>BHK</td>\n",
       "      <td>1275.000000</td>\n",
       "      <td>1</td>\n",
       "      <td>1</td>\n",
       "      <td>Vishweshwara Nagar,Mysore</td>\n",
       "      <td>12.274538</td>\n",
       "      <td>76.644605</td>\n",
       "      <td>51.0</td>\n",
       "    </tr>\n",
       "    <tr>\n",
       "      <th>2</th>\n",
       "      <td>Owner</td>\n",
       "      <td>0</td>\n",
       "      <td>0</td>\n",
       "      <td>2</td>\n",
       "      <td>BHK</td>\n",
       "      <td>933.159722</td>\n",
       "      <td>1</td>\n",
       "      <td>1</td>\n",
       "      <td>Jigani,Bangalore</td>\n",
       "      <td>12.778033</td>\n",
       "      <td>77.632191</td>\n",
       "      <td>43.0</td>\n",
       "    </tr>\n",
       "    <tr>\n",
       "      <th>3</th>\n",
       "      <td>Owner</td>\n",
       "      <td>0</td>\n",
       "      <td>1</td>\n",
       "      <td>2</td>\n",
       "      <td>BHK</td>\n",
       "      <td>929.921143</td>\n",
       "      <td>1</td>\n",
       "      <td>1</td>\n",
       "      <td>Sector-1 Vaishali,Ghaziabad</td>\n",
       "      <td>28.642300</td>\n",
       "      <td>77.344500</td>\n",
       "      <td>62.5</td>\n",
       "    </tr>\n",
       "    <tr>\n",
       "      <th>4</th>\n",
       "      <td>Dealer</td>\n",
       "      <td>1</td>\n",
       "      <td>0</td>\n",
       "      <td>2</td>\n",
       "      <td>BHK</td>\n",
       "      <td>999.009247</td>\n",
       "      <td>0</td>\n",
       "      <td>1</td>\n",
       "      <td>New Town,Kolkata</td>\n",
       "      <td>22.592200</td>\n",
       "      <td>88.484911</td>\n",
       "      <td>60.5</td>\n",
       "    </tr>\n",
       "    <tr>\n",
       "      <th>...</th>\n",
       "      <td>...</td>\n",
       "      <td>...</td>\n",
       "      <td>...</td>\n",
       "      <td>...</td>\n",
       "      <td>...</td>\n",
       "      <td>...</td>\n",
       "      <td>...</td>\n",
       "      <td>...</td>\n",
       "      <td>...</td>\n",
       "      <td>...</td>\n",
       "      <td>...</td>\n",
       "      <td>...</td>\n",
       "    </tr>\n",
       "    <tr>\n",
       "      <th>29446</th>\n",
       "      <td>Owner</td>\n",
       "      <td>0</td>\n",
       "      <td>0</td>\n",
       "      <td>3</td>\n",
       "      <td>BHK</td>\n",
       "      <td>2500.000000</td>\n",
       "      <td>1</td>\n",
       "      <td>1</td>\n",
       "      <td>Shamshabad Road,Agra</td>\n",
       "      <td>27.140626</td>\n",
       "      <td>78.043277</td>\n",
       "      <td>45.0</td>\n",
       "    </tr>\n",
       "    <tr>\n",
       "      <th>29447</th>\n",
       "      <td>Owner</td>\n",
       "      <td>0</td>\n",
       "      <td>0</td>\n",
       "      <td>2</td>\n",
       "      <td>BHK</td>\n",
       "      <td>769.230769</td>\n",
       "      <td>1</td>\n",
       "      <td>1</td>\n",
       "      <td>E3-108, Lake View Recidency,,Vapi</td>\n",
       "      <td>39.945409</td>\n",
       "      <td>-86.150721</td>\n",
       "      <td>16.0</td>\n",
       "    </tr>\n",
       "    <tr>\n",
       "      <th>29448</th>\n",
       "      <td>Dealer</td>\n",
       "      <td>0</td>\n",
       "      <td>0</td>\n",
       "      <td>2</td>\n",
       "      <td>BHK</td>\n",
       "      <td>1022.641509</td>\n",
       "      <td>1</td>\n",
       "      <td>1</td>\n",
       "      <td>Ajmer Road,Jaipur</td>\n",
       "      <td>26.928785</td>\n",
       "      <td>75.828002</td>\n",
       "      <td>27.1</td>\n",
       "    </tr>\n",
       "    <tr>\n",
       "      <th>29449</th>\n",
       "      <td>Owner</td>\n",
       "      <td>0</td>\n",
       "      <td>0</td>\n",
       "      <td>2</td>\n",
       "      <td>BHK</td>\n",
       "      <td>927.079009</td>\n",
       "      <td>1</td>\n",
       "      <td>1</td>\n",
       "      <td>Sholinganallur,Chennai</td>\n",
       "      <td>12.900150</td>\n",
       "      <td>80.227910</td>\n",
       "      <td>67.0</td>\n",
       "    </tr>\n",
       "    <tr>\n",
       "      <th>29450</th>\n",
       "      <td>Dealer</td>\n",
       "      <td>0</td>\n",
       "      <td>1</td>\n",
       "      <td>2</td>\n",
       "      <td>BHK</td>\n",
       "      <td>896.774194</td>\n",
       "      <td>1</td>\n",
       "      <td>1</td>\n",
       "      <td>Jagatpura,Jaipur</td>\n",
       "      <td>26.832353</td>\n",
       "      <td>75.841749</td>\n",
       "      <td>27.8</td>\n",
       "    </tr>\n",
       "  </tbody>\n",
       "</table>\n",
       "<p>29451 rows × 12 columns</p>\n",
       "</div>"
      ],
      "text/plain": [
       "      POSTED_BY  UNDER_CONSTRUCTION  RERA  BHK_NO. BHK_OR_RK    SQUARE_FT  \\\n",
       "0         Owner                   0     0        2       BHK  1300.236407   \n",
       "1        Dealer                   0     0        2       BHK  1275.000000   \n",
       "2         Owner                   0     0        2       BHK   933.159722   \n",
       "3         Owner                   0     1        2       BHK   929.921143   \n",
       "4        Dealer                   1     0        2       BHK   999.009247   \n",
       "...         ...                 ...   ...      ...       ...          ...   \n",
       "29446     Owner                   0     0        3       BHK  2500.000000   \n",
       "29447     Owner                   0     0        2       BHK   769.230769   \n",
       "29448    Dealer                   0     0        2       BHK  1022.641509   \n",
       "29449     Owner                   0     0        2       BHK   927.079009   \n",
       "29450    Dealer                   0     1        2       BHK   896.774194   \n",
       "\n",
       "       READY_TO_MOVE  RESALE                            ADDRESS  LONGITUDE  \\\n",
       "0                  1       1              Ksfc Layout,Bangalore  12.969910   \n",
       "1                  1       1          Vishweshwara Nagar,Mysore  12.274538   \n",
       "2                  1       1                   Jigani,Bangalore  12.778033   \n",
       "3                  1       1        Sector-1 Vaishali,Ghaziabad  28.642300   \n",
       "4                  0       1                   New Town,Kolkata  22.592200   \n",
       "...              ...     ...                                ...        ...   \n",
       "29446              1       1               Shamshabad Road,Agra  27.140626   \n",
       "29447              1       1  E3-108, Lake View Recidency,,Vapi  39.945409   \n",
       "29448              1       1                  Ajmer Road,Jaipur  26.928785   \n",
       "29449              1       1             Sholinganallur,Chennai  12.900150   \n",
       "29450              1       1                   Jagatpura,Jaipur  26.832353   \n",
       "\n",
       "        LATITUDE  TARGET(PRICE_IN_LACS)  \n",
       "0      77.597960                   55.0  \n",
       "1      76.644605                   51.0  \n",
       "2      77.632191                   43.0  \n",
       "3      77.344500                   62.5  \n",
       "4      88.484911                   60.5  \n",
       "...          ...                    ...  \n",
       "29446  78.043277                   45.0  \n",
       "29447 -86.150721                   16.0  \n",
       "29448  75.828002                   27.1  \n",
       "29449  80.227910                   67.0  \n",
       "29450  75.841749                   27.8  \n",
       "\n",
       "[29451 rows x 12 columns]"
      ]
     },
     "execution_count": 3,
     "metadata": {},
     "output_type": "execute_result"
    }
   ],
   "source": [
    "Train"
   ]
  },
  {
   "cell_type": "markdown",
   "id": "a0ded9e4",
   "metadata": {},
   "source": [
    "# Data Preprocessing "
   ]
  },
  {
   "cell_type": "code",
   "execution_count": 4,
   "id": "5ca4774f",
   "metadata": {
    "scrolled": true
   },
   "outputs": [
    {
     "data": {
      "text/plain": [
       "(29451, 12)"
      ]
     },
     "execution_count": 4,
     "metadata": {},
     "output_type": "execute_result"
    }
   ],
   "source": [
    "Train.shape"
   ]
  },
  {
   "cell_type": "code",
   "execution_count": 5,
   "id": "a2685234",
   "metadata": {},
   "outputs": [
    {
     "data": {
      "text/plain": [
       "Index(['POSTED_BY', 'UNDER_CONSTRUCTION', 'RERA', 'BHK_NO.', 'BHK_OR_RK',\n",
       "       'SQUARE_FT', 'READY_TO_MOVE', 'RESALE', 'ADDRESS', 'LONGITUDE',\n",
       "       'LATITUDE', 'TARGET(PRICE_IN_LACS)'],\n",
       "      dtype='object')"
      ]
     },
     "execution_count": 5,
     "metadata": {},
     "output_type": "execute_result"
    }
   ],
   "source": [
    "# Column Names\n",
    "Train.columns"
   ]
  },
  {
   "cell_type": "code",
   "execution_count": 6,
   "id": "5d253879",
   "metadata": {},
   "outputs": [],
   "source": [
    "# Change Column Name\n",
    "Train.columns = ['POSTED BY', 'UNDER CONSTRUCTION', 'RERA', 'BHK NO', 'BHK OR RK',\n",
    "       'SQUARE FT', 'READY TO MOVE', 'RESALE', 'ADDRESS', 'LONGITUDE',\n",
    "       'LATITUDE', 'TARGET']"
   ]
  },
  {
   "cell_type": "code",
   "execution_count": 7,
   "id": "4677ec4d",
   "metadata": {
    "scrolled": true
   },
   "outputs": [
    {
     "name": "stdout",
     "output_type": "stream",
     "text": [
      "<class 'pandas.core.frame.DataFrame'>\n",
      "RangeIndex: 29451 entries, 0 to 29450\n",
      "Data columns (total 12 columns):\n",
      " #   Column              Non-Null Count  Dtype  \n",
      "---  ------              --------------  -----  \n",
      " 0   POSTED BY           29451 non-null  object \n",
      " 1   UNDER CONSTRUCTION  29451 non-null  int64  \n",
      " 2   RERA                29451 non-null  int64  \n",
      " 3   BHK NO              29451 non-null  int64  \n",
      " 4   BHK OR RK           29451 non-null  object \n",
      " 5   SQUARE FT           29451 non-null  float64\n",
      " 6   READY TO MOVE       29451 non-null  int64  \n",
      " 7   RESALE              29451 non-null  int64  \n",
      " 8   ADDRESS             29451 non-null  object \n",
      " 9   LONGITUDE           29451 non-null  float64\n",
      " 10  LATITUDE            29451 non-null  float64\n",
      " 11  TARGET              29451 non-null  float64\n",
      "dtypes: float64(4), int64(5), object(3)\n",
      "memory usage: 2.7+ MB\n"
     ]
    }
   ],
   "source": [
    "# Check DataType and Information\n",
    "Train.info()"
   ]
  },
  {
   "cell_type": "code",
   "execution_count": 8,
   "id": "f033f818",
   "metadata": {},
   "outputs": [
    {
     "data": {
      "text/html": [
       "<div>\n",
       "<style scoped>\n",
       "    .dataframe tbody tr th:only-of-type {\n",
       "        vertical-align: middle;\n",
       "    }\n",
       "\n",
       "    .dataframe tbody tr th {\n",
       "        vertical-align: top;\n",
       "    }\n",
       "\n",
       "    .dataframe thead th {\n",
       "        text-align: right;\n",
       "    }\n",
       "</style>\n",
       "<table border=\"1\" class=\"dataframe\">\n",
       "  <thead>\n",
       "    <tr style=\"text-align: right;\">\n",
       "      <th></th>\n",
       "      <th>count</th>\n",
       "      <th>mean</th>\n",
       "      <th>std</th>\n",
       "      <th>min</th>\n",
       "      <th>25%</th>\n",
       "      <th>50%</th>\n",
       "      <th>75%</th>\n",
       "      <th>max</th>\n",
       "    </tr>\n",
       "  </thead>\n",
       "  <tbody>\n",
       "    <tr>\n",
       "      <th>UNDER CONSTRUCTION</th>\n",
       "      <td>29451.0</td>\n",
       "      <td>0.179756</td>\n",
       "      <td>3.839908e-01</td>\n",
       "      <td>0.000000</td>\n",
       "      <td>0.000000</td>\n",
       "      <td>0.000000</td>\n",
       "      <td>0.000000</td>\n",
       "      <td>1.000000e+00</td>\n",
       "    </tr>\n",
       "    <tr>\n",
       "      <th>RERA</th>\n",
       "      <td>29451.0</td>\n",
       "      <td>0.317918</td>\n",
       "      <td>4.656753e-01</td>\n",
       "      <td>0.000000</td>\n",
       "      <td>0.000000</td>\n",
       "      <td>0.000000</td>\n",
       "      <td>1.000000</td>\n",
       "      <td>1.000000e+00</td>\n",
       "    </tr>\n",
       "    <tr>\n",
       "      <th>BHK NO</th>\n",
       "      <td>29451.0</td>\n",
       "      <td>2.392279</td>\n",
       "      <td>8.790913e-01</td>\n",
       "      <td>1.000000</td>\n",
       "      <td>2.000000</td>\n",
       "      <td>2.000000</td>\n",
       "      <td>3.000000</td>\n",
       "      <td>2.000000e+01</td>\n",
       "    </tr>\n",
       "    <tr>\n",
       "      <th>SQUARE FT</th>\n",
       "      <td>29451.0</td>\n",
       "      <td>19802.170190</td>\n",
       "      <td>1.901335e+06</td>\n",
       "      <td>3.000000</td>\n",
       "      <td>900.021130</td>\n",
       "      <td>1175.056750</td>\n",
       "      <td>1550.688124</td>\n",
       "      <td>2.545455e+08</td>\n",
       "    </tr>\n",
       "    <tr>\n",
       "      <th>READY TO MOVE</th>\n",
       "      <td>29451.0</td>\n",
       "      <td>0.820244</td>\n",
       "      <td>3.839908e-01</td>\n",
       "      <td>0.000000</td>\n",
       "      <td>1.000000</td>\n",
       "      <td>1.000000</td>\n",
       "      <td>1.000000</td>\n",
       "      <td>1.000000e+00</td>\n",
       "    </tr>\n",
       "    <tr>\n",
       "      <th>RESALE</th>\n",
       "      <td>29451.0</td>\n",
       "      <td>0.929578</td>\n",
       "      <td>2.558613e-01</td>\n",
       "      <td>0.000000</td>\n",
       "      <td>1.000000</td>\n",
       "      <td>1.000000</td>\n",
       "      <td>1.000000</td>\n",
       "      <td>1.000000e+00</td>\n",
       "    </tr>\n",
       "    <tr>\n",
       "      <th>LONGITUDE</th>\n",
       "      <td>29451.0</td>\n",
       "      <td>21.300255</td>\n",
       "      <td>6.205306e+00</td>\n",
       "      <td>-37.713008</td>\n",
       "      <td>18.452663</td>\n",
       "      <td>20.750000</td>\n",
       "      <td>26.900926</td>\n",
       "      <td>5.991288e+01</td>\n",
       "    </tr>\n",
       "    <tr>\n",
       "      <th>LATITUDE</th>\n",
       "      <td>29451.0</td>\n",
       "      <td>76.837695</td>\n",
       "      <td>1.055775e+01</td>\n",
       "      <td>-121.761248</td>\n",
       "      <td>73.798100</td>\n",
       "      <td>77.324137</td>\n",
       "      <td>77.828740</td>\n",
       "      <td>1.529627e+02</td>\n",
       "    </tr>\n",
       "    <tr>\n",
       "      <th>TARGET</th>\n",
       "      <td>29451.0</td>\n",
       "      <td>142.898746</td>\n",
       "      <td>6.568807e+02</td>\n",
       "      <td>0.250000</td>\n",
       "      <td>38.000000</td>\n",
       "      <td>62.000000</td>\n",
       "      <td>100.000000</td>\n",
       "      <td>3.000000e+04</td>\n",
       "    </tr>\n",
       "  </tbody>\n",
       "</table>\n",
       "</div>"
      ],
      "text/plain": [
       "                      count          mean           std         min  \\\n",
       "UNDER CONSTRUCTION  29451.0      0.179756  3.839908e-01    0.000000   \n",
       "RERA                29451.0      0.317918  4.656753e-01    0.000000   \n",
       "BHK NO              29451.0      2.392279  8.790913e-01    1.000000   \n",
       "SQUARE FT           29451.0  19802.170190  1.901335e+06    3.000000   \n",
       "READY TO MOVE       29451.0      0.820244  3.839908e-01    0.000000   \n",
       "RESALE              29451.0      0.929578  2.558613e-01    0.000000   \n",
       "LONGITUDE           29451.0     21.300255  6.205306e+00  -37.713008   \n",
       "LATITUDE            29451.0     76.837695  1.055775e+01 -121.761248   \n",
       "TARGET              29451.0    142.898746  6.568807e+02    0.250000   \n",
       "\n",
       "                           25%          50%          75%           max  \n",
       "UNDER CONSTRUCTION    0.000000     0.000000     0.000000  1.000000e+00  \n",
       "RERA                  0.000000     0.000000     1.000000  1.000000e+00  \n",
       "BHK NO                2.000000     2.000000     3.000000  2.000000e+01  \n",
       "SQUARE FT           900.021130  1175.056750  1550.688124  2.545455e+08  \n",
       "READY TO MOVE         1.000000     1.000000     1.000000  1.000000e+00  \n",
       "RESALE                1.000000     1.000000     1.000000  1.000000e+00  \n",
       "LONGITUDE            18.452663    20.750000    26.900926  5.991288e+01  \n",
       "LATITUDE             73.798100    77.324137    77.828740  1.529627e+02  \n",
       "TARGET               38.000000    62.000000   100.000000  3.000000e+04  "
      ]
     },
     "execution_count": 8,
     "metadata": {},
     "output_type": "execute_result"
    }
   ],
   "source": [
    "# Description of Data\n",
    "Train.describe().T"
   ]
  },
  {
   "cell_type": "code",
   "execution_count": 9,
   "id": "82eb4c15",
   "metadata": {},
   "outputs": [
    {
     "data": {
      "text/plain": [
       "POSTED BY             0\n",
       "UNDER CONSTRUCTION    0\n",
       "RERA                  0\n",
       "BHK NO                0\n",
       "BHK OR RK             0\n",
       "SQUARE FT             0\n",
       "READY TO MOVE         0\n",
       "RESALE                0\n",
       "ADDRESS               0\n",
       "LONGITUDE             0\n",
       "LATITUDE              0\n",
       "TARGET                0\n",
       "dtype: int64"
      ]
     },
     "execution_count": 9,
     "metadata": {},
     "output_type": "execute_result"
    }
   ],
   "source": [
    "# Check Null Values in DataSet\n",
    "Train.isnull().sum()"
   ]
  },
  {
   "cell_type": "code",
   "execution_count": 10,
   "id": "a040821c",
   "metadata": {
    "scrolled": false
   },
   "outputs": [
    {
     "data": {
      "text/plain": [
       "0    24157\n",
       "1     5294\n",
       "Name: UNDER CONSTRUCTION, dtype: int64"
      ]
     },
     "execution_count": 10,
     "metadata": {},
     "output_type": "execute_result"
    }
   ],
   "source": [
    "Train['UNDER CONSTRUCTION'].value_counts()"
   ]
  },
  {
   "cell_type": "code",
   "execution_count": 11,
   "id": "d90655a7",
   "metadata": {
    "scrolled": true
   },
   "outputs": [
    {
     "data": {
      "text/plain": [
       "0    20088\n",
       "1     9363\n",
       "Name: RERA, dtype: int64"
      ]
     },
     "execution_count": 11,
     "metadata": {},
     "output_type": "execute_result"
    }
   ],
   "source": [
    "Train['RERA'].value_counts()"
   ]
  },
  {
   "cell_type": "code",
   "execution_count": 12,
   "id": "3098b234",
   "metadata": {},
   "outputs": [
    {
     "data": {
      "text/plain": [
       "1      3574\n",
       "2     13324\n",
       "3     10546\n",
       "4      1723\n",
       "5       190\n",
       "6        52\n",
       "7        11\n",
       "8        10\n",
       "9         3\n",
       "10        4\n",
       "11        1\n",
       "12        3\n",
       "13        1\n",
       "15        4\n",
       "17        1\n",
       "20        4\n",
       "Name: BHK NO, dtype: int64"
      ]
     },
     "execution_count": 12,
     "metadata": {},
     "output_type": "execute_result"
    }
   ],
   "source": [
    "Train['BHK NO'].value_counts().sort_index()"
   ]
  },
  {
   "cell_type": "code",
   "execution_count": 13,
   "id": "c20de394",
   "metadata": {},
   "outputs": [
    {
     "data": {
      "text/plain": [
       "BHK    29427\n",
       "RK        24\n",
       "Name: BHK OR RK, dtype: int64"
      ]
     },
     "execution_count": 13,
     "metadata": {},
     "output_type": "execute_result"
    }
   ],
   "source": [
    "Train['BHK OR RK'].value_counts()"
   ]
  },
  {
   "cell_type": "code",
   "execution_count": 14,
   "id": "e9c3bee0",
   "metadata": {},
   "outputs": [
    {
     "data": {
      "text/plain": [
       "0     5294\n",
       "1    24157\n",
       "Name: READY TO MOVE, dtype: int64"
      ]
     },
     "execution_count": 14,
     "metadata": {},
     "output_type": "execute_result"
    }
   ],
   "source": [
    "Train['READY TO MOVE'].value_counts().sort_index()"
   ]
  },
  {
   "cell_type": "code",
   "execution_count": 15,
   "id": "883fee77",
   "metadata": {
    "scrolled": true
   },
   "outputs": [
    {
     "data": {
      "text/plain": [
       "0     2074\n",
       "1    27377\n",
       "Name: RESALE, dtype: int64"
      ]
     },
     "execution_count": 15,
     "metadata": {},
     "output_type": "execute_result"
    }
   ],
   "source": [
    "Train['RESALE'].value_counts().sort_index()"
   ]
  },
  {
   "cell_type": "code",
   "execution_count": 16,
   "id": "cb1bc698",
   "metadata": {},
   "outputs": [
    {
     "data": {
      "text/html": [
       "<div>\n",
       "<style scoped>\n",
       "    .dataframe tbody tr th:only-of-type {\n",
       "        vertical-align: middle;\n",
       "    }\n",
       "\n",
       "    .dataframe tbody tr th {\n",
       "        vertical-align: top;\n",
       "    }\n",
       "\n",
       "    .dataframe thead th {\n",
       "        text-align: right;\n",
       "    }\n",
       "</style>\n",
       "<table border=\"1\" class=\"dataframe\">\n",
       "  <thead>\n",
       "    <tr style=\"text-align: right;\">\n",
       "      <th></th>\n",
       "      <th>UNDER CONSTRUCTION</th>\n",
       "      <th>RERA</th>\n",
       "      <th>BHK NO</th>\n",
       "      <th>SQUARE FT</th>\n",
       "      <th>READY TO MOVE</th>\n",
       "      <th>RESALE</th>\n",
       "      <th>LONGITUDE</th>\n",
       "      <th>LATITUDE</th>\n",
       "      <th>TARGET</th>\n",
       "    </tr>\n",
       "  </thead>\n",
       "  <tbody>\n",
       "    <tr>\n",
       "      <th>UNDER CONSTRUCTION</th>\n",
       "      <td>1.000000</td>\n",
       "      <td>0.363826</td>\n",
       "      <td>-0.040712</td>\n",
       "      <td>-0.004204</td>\n",
       "      <td>-1.000000</td>\n",
       "      <td>-0.347405</td>\n",
       "      <td>0.006440</td>\n",
       "      <td>-0.000381</td>\n",
       "      <td>0.055399</td>\n",
       "    </tr>\n",
       "    <tr>\n",
       "      <th>RERA</th>\n",
       "      <td>0.363826</td>\n",
       "      <td>1.000000</td>\n",
       "      <td>0.009547</td>\n",
       "      <td>-0.006229</td>\n",
       "      <td>-0.363826</td>\n",
       "      <td>-0.270351</td>\n",
       "      <td>0.104976</td>\n",
       "      <td>-0.065106</td>\n",
       "      <td>0.067636</td>\n",
       "    </tr>\n",
       "    <tr>\n",
       "      <th>BHK NO</th>\n",
       "      <td>-0.040712</td>\n",
       "      <td>0.009547</td>\n",
       "      <td>1.000000</td>\n",
       "      <td>0.005303</td>\n",
       "      <td>0.040712</td>\n",
       "      <td>0.014581</td>\n",
       "      <td>0.068730</td>\n",
       "      <td>0.046930</td>\n",
       "      <td>0.112283</td>\n",
       "    </tr>\n",
       "    <tr>\n",
       "      <th>SQUARE FT</th>\n",
       "      <td>-0.004204</td>\n",
       "      <td>-0.006229</td>\n",
       "      <td>0.005303</td>\n",
       "      <td>1.000000</td>\n",
       "      <td>0.004204</td>\n",
       "      <td>0.001732</td>\n",
       "      <td>-0.012591</td>\n",
       "      <td>0.000803</td>\n",
       "      <td>0.402685</td>\n",
       "    </tr>\n",
       "    <tr>\n",
       "      <th>READY TO MOVE</th>\n",
       "      <td>-1.000000</td>\n",
       "      <td>-0.363826</td>\n",
       "      <td>0.040712</td>\n",
       "      <td>0.004204</td>\n",
       "      <td>1.000000</td>\n",
       "      <td>0.347405</td>\n",
       "      <td>-0.006440</td>\n",
       "      <td>0.000381</td>\n",
       "      <td>-0.055399</td>\n",
       "    </tr>\n",
       "    <tr>\n",
       "      <th>RESALE</th>\n",
       "      <td>-0.347405</td>\n",
       "      <td>-0.270351</td>\n",
       "      <td>0.014581</td>\n",
       "      <td>0.001732</td>\n",
       "      <td>0.347405</td>\n",
       "      <td>1.000000</td>\n",
       "      <td>0.024038</td>\n",
       "      <td>0.014844</td>\n",
       "      <td>-0.207378</td>\n",
       "    </tr>\n",
       "    <tr>\n",
       "      <th>LONGITUDE</th>\n",
       "      <td>0.006440</td>\n",
       "      <td>0.104976</td>\n",
       "      <td>0.068730</td>\n",
       "      <td>-0.012591</td>\n",
       "      <td>-0.006440</td>\n",
       "      <td>0.024038</td>\n",
       "      <td>1.000000</td>\n",
       "      <td>-0.155062</td>\n",
       "      <td>-0.031112</td>\n",
       "    </tr>\n",
       "    <tr>\n",
       "      <th>LATITUDE</th>\n",
       "      <td>-0.000381</td>\n",
       "      <td>-0.065106</td>\n",
       "      <td>0.046930</td>\n",
       "      <td>0.000803</td>\n",
       "      <td>0.000381</td>\n",
       "      <td>0.014844</td>\n",
       "      <td>-0.155062</td>\n",
       "      <td>1.000000</td>\n",
       "      <td>-0.017254</td>\n",
       "    </tr>\n",
       "    <tr>\n",
       "      <th>TARGET</th>\n",
       "      <td>0.055399</td>\n",
       "      <td>0.067636</td>\n",
       "      <td>0.112283</td>\n",
       "      <td>0.402685</td>\n",
       "      <td>-0.055399</td>\n",
       "      <td>-0.207378</td>\n",
       "      <td>-0.031112</td>\n",
       "      <td>-0.017254</td>\n",
       "      <td>1.000000</td>\n",
       "    </tr>\n",
       "  </tbody>\n",
       "</table>\n",
       "</div>"
      ],
      "text/plain": [
       "                    UNDER CONSTRUCTION      RERA    BHK NO  SQUARE FT  \\\n",
       "UNDER CONSTRUCTION            1.000000  0.363826 -0.040712  -0.004204   \n",
       "RERA                          0.363826  1.000000  0.009547  -0.006229   \n",
       "BHK NO                       -0.040712  0.009547  1.000000   0.005303   \n",
       "SQUARE FT                    -0.004204 -0.006229  0.005303   1.000000   \n",
       "READY TO MOVE                -1.000000 -0.363826  0.040712   0.004204   \n",
       "RESALE                       -0.347405 -0.270351  0.014581   0.001732   \n",
       "LONGITUDE                     0.006440  0.104976  0.068730  -0.012591   \n",
       "LATITUDE                     -0.000381 -0.065106  0.046930   0.000803   \n",
       "TARGET                        0.055399  0.067636  0.112283   0.402685   \n",
       "\n",
       "                    READY TO MOVE    RESALE  LONGITUDE  LATITUDE    TARGET  \n",
       "UNDER CONSTRUCTION      -1.000000 -0.347405   0.006440 -0.000381  0.055399  \n",
       "RERA                    -0.363826 -0.270351   0.104976 -0.065106  0.067636  \n",
       "BHK NO                   0.040712  0.014581   0.068730  0.046930  0.112283  \n",
       "SQUARE FT                0.004204  0.001732  -0.012591  0.000803  0.402685  \n",
       "READY TO MOVE            1.000000  0.347405  -0.006440  0.000381 -0.055399  \n",
       "RESALE                   0.347405  1.000000   0.024038  0.014844 -0.207378  \n",
       "LONGITUDE               -0.006440  0.024038   1.000000 -0.155062 -0.031112  \n",
       "LATITUDE                 0.000381  0.014844  -0.155062  1.000000 -0.017254  \n",
       "TARGET                  -0.055399 -0.207378  -0.031112 -0.017254  1.000000  "
      ]
     },
     "execution_count": 16,
     "metadata": {},
     "output_type": "execute_result"
    }
   ],
   "source": [
    "# Correlation Between Features\n",
    "Train.corr()"
   ]
  },
  {
   "cell_type": "markdown",
   "id": "ce6f69fa",
   "metadata": {},
   "source": [
    "# Visualization"
   ]
  },
  {
   "cell_type": "code",
   "execution_count": 17,
   "id": "09df9f35",
   "metadata": {},
   "outputs": [
    {
     "data": {
      "text/plain": [
       "<AxesSubplot:>"
      ]
     },
     "execution_count": 17,
     "metadata": {},
     "output_type": "execute_result"
    },
    {
     "data": {
      "image/png": "[encoded data removed]",
      "text/plain": [
       "<Figure size 640x480 with 2 Axes>"
      ]
     },
     "metadata": {},
     "output_type": "display_data"
    }
   ],
   "source": [
    "sns.heatmap(Train.corr(), annot=True, cmap='cool', annot_kws={\"size\":8}, fmt='.2f')"
   ]
  },
  {
   "cell_type": "code",
   "execution_count": 18,
   "id": "a631cb3c",
   "metadata": {
    "scrolled": false
   },
   "outputs": [
    {
     "data": {
      "image/png": "[encoded data removed]",
      "text/plain": [
       "<Figure size 2000x1400 with 6 Axes>"
      ]
     },
     "metadata": {},
     "output_type": "display_data"
    }
   ],
   "source": [
    "plt.figure(figsize=(20,14))\n",
    "plt.subplot(3,2,1)\n",
    "sns.countplot(data=Train, x=\"UNDER CONSTRUCTION\")\n",
    "plt.title('Count of Under Construction Building')\n",
    "\n",
    "plt.subplot(3,2,2)\n",
    "sns.countplot(data=Train, x=\"RERA\")\n",
    "plt.title('Count of RERA')\n",
    "\n",
    "plt.subplot(3,2,3)\n",
    "sns.countplot(data=Train, x=\"BHK NO\")\n",
    "plt.title('Count of Bedrooms')\n",
    "\n",
    "plt.subplot(3,2,4)\n",
    "sns.countplot(data=Train, x=\"BHK OR RK\")\n",
    "plt.title('Count of BHK or RK')\n",
    "\n",
    "plt.subplot(3,2,5)\n",
    "sns.countplot(data=Train, x=\"READY TO MOVE\")\n",
    "plt.title('Count of Ready to MOve')\n",
    "\n",
    "plt.subplot(3,2,6)\n",
    "sns.countplot(data=Train, x=\"RESALE\")\n",
    "plt.title('Count of Flat Resale')\n",
    "\n",
    "plt.tight_layout()"
   ]
  },
  {
   "cell_type": "code",
   "execution_count": 19,
   "id": "10fa1cd7",
   "metadata": {},
   "outputs": [
    {
     "data": {
      "text/plain": [
       "Text(0.5, 1.0, 'Distribution of Square Feet')"
      ]
     },
     "execution_count": 19,
     "metadata": {},
     "output_type": "execute_result"
    },
    {
     "data": {
      "image/png": "[encoded data removed]",
      "text/plain": [
       "<Figure size 1000x600 with 1 Axes>"
      ]
     },
     "metadata": {},
     "output_type": "display_data"
    }
   ],
   "source": [
    "plt.figure(figsize=(10, 6)) \n",
    "\n",
    "bin_edges = [0, 500, 1000, 1500, 2000, 2500, 3000, 3500]\n",
    "\n",
    "sns.histplot(data=Train, x=\"SQUARE FT\", bins=bin_edges)\n",
    "plt.xlabel(\"Square Feet\")\n",
    "plt.ylabel(\"Count\")\n",
    "plt.title(\"Distribution of Square Feet\")"
   ]
  },
  {
   "cell_type": "code",
   "execution_count": 20,
   "id": "79e0bb4e",
   "metadata": {},
   "outputs": [
    {
     "data": {
      "text/plain": [
       "<AxesSubplot:title={'center':'TARGET'}, xlabel='BHK NO'>"
      ]
     },
     "execution_count": 20,
     "metadata": {},
     "output_type": "execute_result"
    },
    {
     "data": {
      "image/png": "[encoded data removed]",
      "text/plain": [
       "<Figure size 640x480 with 1 Axes>"
      ]
     },
     "metadata": {},
     "output_type": "display_data"
    }
   ],
   "source": [
    "Train.boxplot(column='TARGET', by='BHK NO')"
   ]
  },
  {
   "cell_type": "code",
   "execution_count": 21,
   "id": "f215ae16",
   "metadata": {},
   "outputs": [
    {
     "data": {
      "text/plain": [
       "<matplotlib.colorbar.Colorbar at 0x1775ef7dac0>"
      ]
     },
     "execution_count": 21,
     "metadata": {},
     "output_type": "execute_result"
    },
    {
     "data": {
      "image/png": "[encoded data removed]",
      "text/plain": [
       "<Figure size 640x480 with 2 Axes>"
      ]
     },
     "metadata": {},
     "output_type": "display_data"
    }
   ],
   "source": [
    "plt.scatter(Train['LONGITUDE'], Train['LATITUDE'], c=Train['TARGET'])\n",
    "plt.colorbar(label='Price (in Lacs)')"
   ]
  },
  {
   "cell_type": "markdown",
   "id": "00bca942",
   "metadata": {},
   "source": [
    "# Model Preprocessing"
   ]
  },
  {
   "cell_type": "markdown",
   "id": "7c863dd3",
   "metadata": {},
   "source": [
    "### Train Data Preprocessing"
   ]
  },
  {
   "cell_type": "code",
   "execution_count": 22,
   "id": "d33576d7",
   "metadata": {},
   "outputs": [],
   "source": [
    "# Label Encoding for Categorical Columns\n",
    "le = LabelEncoder()\n",
    "Train['BHK OR RK'] = le.fit_transform(Train['BHK OR RK'])\n",
    "Train['POSTED BY'] = le.fit_transform(Train['POSTED BY'])"
   ]
  },
  {
   "cell_type": "code",
   "execution_count": 23,
   "id": "59f68607",
   "metadata": {},
   "outputs": [],
   "source": [
    "# Drop unnesseary column\n",
    "Train = Train.drop(['ADDRESS'], axis=1)"
   ]
  },
  {
   "cell_type": "code",
   "execution_count": 24,
   "id": "fab37b34",
   "metadata": {
    "scrolled": true
   },
   "outputs": [],
   "source": [
    "# Standard Scaling for Scale a column in one unit.\n",
    "sc = StandardScaler()\n",
    "Train[['SQUARE FT', 'LONGITUDE', 'LATITUDE']] = sc.fit_transform(Train[['SQUARE FT', 'LONGITUDE', 'LATITUDE']])"
   ]
  },
  {
   "cell_type": "code",
   "execution_count": 25,
   "id": "d2b0f338",
   "metadata": {
    "scrolled": true
   },
   "outputs": [
    {
     "data": {
      "text/html": [
       "<div>\n",
       "<style scoped>\n",
       "    .dataframe tbody tr th:only-of-type {\n",
       "        vertical-align: middle;\n",
       "    }\n",
       "\n",
       "    .dataframe tbody tr th {\n",
       "        vertical-align: top;\n",
       "    }\n",
       "\n",
       "    .dataframe thead th {\n",
       "        text-align: right;\n",
       "    }\n",
       "</style>\n",
       "<table border=\"1\" class=\"dataframe\">\n",
       "  <thead>\n",
       "    <tr style=\"text-align: right;\">\n",
       "      <th></th>\n",
       "      <th>POSTED BY</th>\n",
       "      <th>UNDER CONSTRUCTION</th>\n",
       "      <th>RERA</th>\n",
       "      <th>BHK NO</th>\n",
       "      <th>BHK OR RK</th>\n",
       "      <th>SQUARE FT</th>\n",
       "      <th>READY TO MOVE</th>\n",
       "      <th>RESALE</th>\n",
       "      <th>LONGITUDE</th>\n",
       "      <th>LATITUDE</th>\n",
       "      <th>TARGET</th>\n",
       "    </tr>\n",
       "  </thead>\n",
       "  <tbody>\n",
       "    <tr>\n",
       "      <th>0</th>\n",
       "      <td>2</td>\n",
       "      <td>0</td>\n",
       "      <td>0</td>\n",
       "      <td>2</td>\n",
       "      <td>0</td>\n",
       "      <td>-0.009731</td>\n",
       "      <td>1</td>\n",
       "      <td>1</td>\n",
       "      <td>-1.342478</td>\n",
       "      <td>0.072011</td>\n",
       "      <td>55.0</td>\n",
       "    </tr>\n",
       "    <tr>\n",
       "      <th>1</th>\n",
       "      <td>1</td>\n",
       "      <td>0</td>\n",
       "      <td>0</td>\n",
       "      <td>2</td>\n",
       "      <td>0</td>\n",
       "      <td>-0.009744</td>\n",
       "      <td>1</td>\n",
       "      <td>1</td>\n",
       "      <td>-1.454541</td>\n",
       "      <td>-0.018289</td>\n",
       "      <td>51.0</td>\n",
       "    </tr>\n",
       "    <tr>\n",
       "      <th>2</th>\n",
       "      <td>2</td>\n",
       "      <td>0</td>\n",
       "      <td>0</td>\n",
       "      <td>2</td>\n",
       "      <td>0</td>\n",
       "      <td>-0.009924</td>\n",
       "      <td>1</td>\n",
       "      <td>1</td>\n",
       "      <td>-1.373400</td>\n",
       "      <td>0.075254</td>\n",
       "      <td>43.0</td>\n",
       "    </tr>\n",
       "    <tr>\n",
       "      <th>3</th>\n",
       "      <td>2</td>\n",
       "      <td>0</td>\n",
       "      <td>1</td>\n",
       "      <td>2</td>\n",
       "      <td>0</td>\n",
       "      <td>-0.009926</td>\n",
       "      <td>1</td>\n",
       "      <td>1</td>\n",
       "      <td>1.183208</td>\n",
       "      <td>0.048004</td>\n",
       "      <td>62.5</td>\n",
       "    </tr>\n",
       "    <tr>\n",
       "      <th>4</th>\n",
       "      <td>1</td>\n",
       "      <td>1</td>\n",
       "      <td>0</td>\n",
       "      <td>2</td>\n",
       "      <td>0</td>\n",
       "      <td>-0.009890</td>\n",
       "      <td>0</td>\n",
       "      <td>1</td>\n",
       "      <td>0.208204</td>\n",
       "      <td>1.103210</td>\n",
       "      <td>60.5</td>\n",
       "    </tr>\n",
       "    <tr>\n",
       "      <th>...</th>\n",
       "      <td>...</td>\n",
       "      <td>...</td>\n",
       "      <td>...</td>\n",
       "      <td>...</td>\n",
       "      <td>...</td>\n",
       "      <td>...</td>\n",
       "      <td>...</td>\n",
       "      <td>...</td>\n",
       "      <td>...</td>\n",
       "      <td>...</td>\n",
       "      <td>...</td>\n",
       "    </tr>\n",
       "    <tr>\n",
       "      <th>29446</th>\n",
       "      <td>2</td>\n",
       "      <td>0</td>\n",
       "      <td>0</td>\n",
       "      <td>3</td>\n",
       "      <td>0</td>\n",
       "      <td>-0.009100</td>\n",
       "      <td>1</td>\n",
       "      <td>1</td>\n",
       "      <td>0.941206</td>\n",
       "      <td>0.114191</td>\n",
       "      <td>45.0</td>\n",
       "    </tr>\n",
       "    <tr>\n",
       "      <th>29447</th>\n",
       "      <td>2</td>\n",
       "      <td>0</td>\n",
       "      <td>0</td>\n",
       "      <td>2</td>\n",
       "      <td>0</td>\n",
       "      <td>-0.010010</td>\n",
       "      <td>1</td>\n",
       "      <td>1</td>\n",
       "      <td>3.004762</td>\n",
       "      <td>-15.438065</td>\n",
       "      <td>16.0</td>\n",
       "    </tr>\n",
       "    <tr>\n",
       "      <th>29448</th>\n",
       "      <td>1</td>\n",
       "      <td>0</td>\n",
       "      <td>0</td>\n",
       "      <td>2</td>\n",
       "      <td>0</td>\n",
       "      <td>-0.009877</td>\n",
       "      <td>1</td>\n",
       "      <td>1</td>\n",
       "      <td>0.907066</td>\n",
       "      <td>-0.095637</td>\n",
       "      <td>27.1</td>\n",
       "    </tr>\n",
       "    <tr>\n",
       "      <th>29449</th>\n",
       "      <td>2</td>\n",
       "      <td>0</td>\n",
       "      <td>0</td>\n",
       "      <td>2</td>\n",
       "      <td>0</td>\n",
       "      <td>-0.009927</td>\n",
       "      <td>1</td>\n",
       "      <td>1</td>\n",
       "      <td>-1.353720</td>\n",
       "      <td>0.321117</td>\n",
       "      <td>67.0</td>\n",
       "    </tr>\n",
       "    <tr>\n",
       "      <th>29450</th>\n",
       "      <td>1</td>\n",
       "      <td>0</td>\n",
       "      <td>1</td>\n",
       "      <td>2</td>\n",
       "      <td>0</td>\n",
       "      <td>-0.009943</td>\n",
       "      <td>1</td>\n",
       "      <td>1</td>\n",
       "      <td>0.891526</td>\n",
       "      <td>-0.094335</td>\n",
       "      <td>27.8</td>\n",
       "    </tr>\n",
       "  </tbody>\n",
       "</table>\n",
       "<p>29451 rows × 11 columns</p>\n",
       "</div>"
      ],
      "text/plain": [
       "       POSTED BY  UNDER CONSTRUCTION  RERA  BHK NO  BHK OR RK  SQUARE FT  \\\n",
       "0              2                   0     0       2          0  -0.009731   \n",
       "1              1                   0     0       2          0  -0.009744   \n",
       "2              2                   0     0       2          0  -0.009924   \n",
       "3              2                   0     1       2          0  -0.009926   \n",
       "4              1                   1     0       2          0  -0.009890   \n",
       "...          ...                 ...   ...     ...        ...        ...   \n",
       "29446          2                   0     0       3          0  -0.009100   \n",
       "29447          2                   0     0       2          0  -0.010010   \n",
       "29448          1                   0     0       2          0  -0.009877   \n",
       "29449          2                   0     0       2          0  -0.009927   \n",
       "29450          1                   0     1       2          0  -0.009943   \n",
       "\n",
       "       READY TO MOVE  RESALE  LONGITUDE   LATITUDE  TARGET  \n",
       "0                  1       1  -1.342478   0.072011    55.0  \n",
       "1                  1       1  -1.454541  -0.018289    51.0  \n",
       "2                  1       1  -1.373400   0.075254    43.0  \n",
       "3                  1       1   1.183208   0.048004    62.5  \n",
       "4                  0       1   0.208204   1.103210    60.5  \n",
       "...              ...     ...        ...        ...     ...  \n",
       "29446              1       1   0.941206   0.114191    45.0  \n",
       "29447              1       1   3.004762 -15.438065    16.0  \n",
       "29448              1       1   0.907066  -0.095637    27.1  \n",
       "29449              1       1  -1.353720   0.321117    67.0  \n",
       "29450              1       1   0.891526  -0.094335    27.8  \n",
       "\n",
       "[29451 rows x 11 columns]"
      ]
     },
     "execution_count": 25,
     "metadata": {},
     "output_type": "execute_result"
    }
   ],
   "source": [
    "Train"
   ]
  },
  {
   "cell_type": "code",
   "execution_count": 26,
   "id": "bf3bf360",
   "metadata": {},
   "outputs": [],
   "source": [
    "# Split Dataset for Training Model\n",
    "X_train = Train.drop(['TARGET'], axis=1)\n",
    "y_train = Train['TARGET']"
   ]
  },
  {
   "cell_type": "markdown",
   "id": "5204ea74",
   "metadata": {},
   "source": [
    "### Test Data for Preprocessing"
   ]
  },
  {
   "cell_type": "code",
   "execution_count": 27,
   "id": "5f4a2700",
   "metadata": {},
   "outputs": [],
   "source": [
    "# Import Test DataSet\n",
    "Test = pd.read_csv(r\"C:\\Users\\aksha\\Desktop\\Internship\\Bharat Intern\\House Price Prediction\\Test.csv\")"
   ]
  },
  {
   "cell_type": "code",
   "execution_count": 28,
   "id": "79fe4cdd",
   "metadata": {},
   "outputs": [],
   "source": [
    "Test.columns = ['POSTED BY', 'UNDER CONSTRUCTION', 'RERA', 'BHK NO', 'BHK OR RK',\n",
    "       'SQUARE FT', 'READY TO MOVE', 'RESALE', 'ADDRESS', 'LONGITUDE',\n",
    "       'LATITUDE']"
   ]
  },
  {
   "cell_type": "code",
   "execution_count": 29,
   "id": "e68950ef",
   "metadata": {},
   "outputs": [],
   "source": [
    "X_Test = Test"
   ]
  },
  {
   "cell_type": "code",
   "execution_count": 30,
   "id": "bad94c81",
   "metadata": {
    "scrolled": true
   },
   "outputs": [],
   "source": [
    "# Transform Column using Label Encoding and Standard Scaling.\n",
    "le = LabelEncoder()\n",
    "X_Test['BHK OR RK'] = le.fit_transform(X_Test['BHK OR RK'])\n",
    "X_Test['POSTED BY'] = le.fit_transform(X_Test['POSTED BY'])\n",
    "X_Test = X_Test.drop(['ADDRESS'], axis=1)\n",
    "sc = StandardScaler()\n",
    "X_Test[['SQUARE FT', 'LONGITUDE', 'LATITUDE']] = sc.fit_transform(X_Test[['SQUARE FT', 'LONGITUDE', 'LATITUDE']])"
   ]
  },
  {
   "cell_type": "code",
   "execution_count": 31,
   "id": "d1ba3ed4",
   "metadata": {
    "scrolled": true
   },
   "outputs": [
    {
     "data": {
      "text/html": [
       "<div>\n",
       "<style scoped>\n",
       "    .dataframe tbody tr th:only-of-type {\n",
       "        vertical-align: middle;\n",
       "    }\n",
       "\n",
       "    .dataframe tbody tr th {\n",
       "        vertical-align: top;\n",
       "    }\n",
       "\n",
       "    .dataframe thead th {\n",
       "        text-align: right;\n",
       "    }\n",
       "</style>\n",
       "<table border=\"1\" class=\"dataframe\">\n",
       "  <thead>\n",
       "    <tr style=\"text-align: right;\">\n",
       "      <th></th>\n",
       "      <th>POSTED BY</th>\n",
       "      <th>UNDER CONSTRUCTION</th>\n",
       "      <th>RERA</th>\n",
       "      <th>BHK NO</th>\n",
       "      <th>BHK OR RK</th>\n",
       "      <th>SQUARE FT</th>\n",
       "      <th>READY TO MOVE</th>\n",
       "      <th>RESALE</th>\n",
       "      <th>LONGITUDE</th>\n",
       "      <th>LATITUDE</th>\n",
       "    </tr>\n",
       "  </thead>\n",
       "  <tbody>\n",
       "    <tr>\n",
       "      <th>0</th>\n",
       "      <td>2</td>\n",
       "      <td>0</td>\n",
       "      <td>0</td>\n",
       "      <td>1</td>\n",
       "      <td>0</td>\n",
       "      <td>-0.013512</td>\n",
       "      <td>1</td>\n",
       "      <td>1</td>\n",
       "      <td>-0.004215</td>\n",
       "      <td>-0.383302</td>\n",
       "    </tr>\n",
       "    <tr>\n",
       "      <th>1</th>\n",
       "      <td>1</td>\n",
       "      <td>1</td>\n",
       "      <td>1</td>\n",
       "      <td>2</td>\n",
       "      <td>0</td>\n",
       "      <td>-0.011959</td>\n",
       "      <td>0</td>\n",
       "      <td>0</td>\n",
       "      <td>-0.375779</td>\n",
       "      <td>-0.373345</td>\n",
       "    </tr>\n",
       "    <tr>\n",
       "      <th>2</th>\n",
       "      <td>1</td>\n",
       "      <td>0</td>\n",
       "      <td>0</td>\n",
       "      <td>2</td>\n",
       "      <td>0</td>\n",
       "      <td>-0.009173</td>\n",
       "      <td>1</td>\n",
       "      <td>1</td>\n",
       "      <td>0.211063</td>\n",
       "      <td>1.145002</td>\n",
       "    </tr>\n",
       "    <tr>\n",
       "      <th>3</th>\n",
       "      <td>1</td>\n",
       "      <td>0</td>\n",
       "      <td>0</td>\n",
       "      <td>3</td>\n",
       "      <td>0</td>\n",
       "      <td>-0.008300</td>\n",
       "      <td>1</td>\n",
       "      <td>1</td>\n",
       "      <td>0.922522</td>\n",
       "      <td>-0.132146</td>\n",
       "    </tr>\n",
       "    <tr>\n",
       "      <th>4</th>\n",
       "      <td>2</td>\n",
       "      <td>0</td>\n",
       "      <td>0</td>\n",
       "      <td>1</td>\n",
       "      <td>0</td>\n",
       "      <td>-0.014211</td>\n",
       "      <td>1</td>\n",
       "      <td>1</td>\n",
       "      <td>0.228509</td>\n",
       "      <td>-0.400895</td>\n",
       "    </tr>\n",
       "    <tr>\n",
       "      <th>...</th>\n",
       "      <td>...</td>\n",
       "      <td>...</td>\n",
       "      <td>...</td>\n",
       "      <td>...</td>\n",
       "      <td>...</td>\n",
       "      <td>...</td>\n",
       "      <td>...</td>\n",
       "      <td>...</td>\n",
       "      <td>...</td>\n",
       "      <td>...</td>\n",
       "    </tr>\n",
       "    <tr>\n",
       "      <th>68715</th>\n",
       "      <td>1</td>\n",
       "      <td>0</td>\n",
       "      <td>1</td>\n",
       "      <td>2</td>\n",
       "      <td>0</td>\n",
       "      <td>-0.011614</td>\n",
       "      <td>1</td>\n",
       "      <td>1</td>\n",
       "      <td>-0.341163</td>\n",
       "      <td>-0.391655</td>\n",
       "    </tr>\n",
       "    <tr>\n",
       "      <th>68716</th>\n",
       "      <td>1</td>\n",
       "      <td>0</td>\n",
       "      <td>1</td>\n",
       "      <td>3</td>\n",
       "      <td>0</td>\n",
       "      <td>-0.002793</td>\n",
       "      <td>1</td>\n",
       "      <td>1</td>\n",
       "      <td>1.516924</td>\n",
       "      <td>-0.017158</td>\n",
       "    </tr>\n",
       "    <tr>\n",
       "      <th>68717</th>\n",
       "      <td>1</td>\n",
       "      <td>1</td>\n",
       "      <td>1</td>\n",
       "      <td>1</td>\n",
       "      <td>0</td>\n",
       "      <td>0.186476</td>\n",
       "      <td>0</td>\n",
       "      <td>0</td>\n",
       "      <td>-0.334350</td>\n",
       "      <td>-0.389190</td>\n",
       "    </tr>\n",
       "    <tr>\n",
       "      <th>68718</th>\n",
       "      <td>1</td>\n",
       "      <td>0</td>\n",
       "      <td>0</td>\n",
       "      <td>2</td>\n",
       "      <td>0</td>\n",
       "      <td>-0.009681</td>\n",
       "      <td>1</td>\n",
       "      <td>1</td>\n",
       "      <td>-0.451753</td>\n",
       "      <td>-0.294798</td>\n",
       "    </tr>\n",
       "    <tr>\n",
       "      <th>68719</th>\n",
       "      <td>1</td>\n",
       "      <td>0</td>\n",
       "      <td>0</td>\n",
       "      <td>3</td>\n",
       "      <td>0</td>\n",
       "      <td>-0.001968</td>\n",
       "      <td>1</td>\n",
       "      <td>1</td>\n",
       "      <td>-0.350081</td>\n",
       "      <td>-0.398568</td>\n",
       "    </tr>\n",
       "  </tbody>\n",
       "</table>\n",
       "<p>68720 rows × 10 columns</p>\n",
       "</div>"
      ],
      "text/plain": [
       "       POSTED BY  UNDER CONSTRUCTION  RERA  BHK NO  BHK OR RK  SQUARE FT  \\\n",
       "0              2                   0     0       1          0  -0.013512   \n",
       "1              1                   1     1       2          0  -0.011959   \n",
       "2              1                   0     0       2          0  -0.009173   \n",
       "3              1                   0     0       3          0  -0.008300   \n",
       "4              2                   0     0       1          0  -0.014211   \n",
       "...          ...                 ...   ...     ...        ...        ...   \n",
       "68715          1                   0     1       2          0  -0.011614   \n",
       "68716          1                   0     1       3          0  -0.002793   \n",
       "68717          1                   1     1       1          0   0.186476   \n",
       "68718          1                   0     0       2          0  -0.009681   \n",
       "68719          1                   0     0       3          0  -0.001968   \n",
       "\n",
       "       READY TO MOVE  RESALE  LONGITUDE  LATITUDE  \n",
       "0                  1       1  -0.004215 -0.383302  \n",
       "1                  0       0  -0.375779 -0.373345  \n",
       "2                  1       1   0.211063  1.145002  \n",
       "3                  1       1   0.922522 -0.132146  \n",
       "4                  1       1   0.228509 -0.400895  \n",
       "...              ...     ...        ...       ...  \n",
       "68715              1       1  -0.341163 -0.391655  \n",
       "68716              1       1   1.516924 -0.017158  \n",
       "68717              0       0  -0.334350 -0.389190  \n",
       "68718              1       1  -0.451753 -0.294798  \n",
       "68719              1       1  -0.350081 -0.398568  \n",
       "\n",
       "[68720 rows x 10 columns]"
      ]
     },
     "execution_count": 31,
     "metadata": {},
     "output_type": "execute_result"
    }
   ],
   "source": [
    "X_Test"
   ]
  },
  {
   "cell_type": "markdown",
   "id": "062768f8",
   "metadata": {},
   "source": [
    "# Model Building"
   ]
  },
  {
   "cell_type": "code",
   "execution_count": 32,
   "id": "3329fb75",
   "metadata": {},
   "outputs": [],
   "source": [
    "# Build Linear Regression Model\n",
    "model = LinearRegression()\n",
    "fit = model.fit(X_train, y_train)"
   ]
  },
  {
   "cell_type": "code",
   "execution_count": 33,
   "id": "2adf7144",
   "metadata": {},
   "outputs": [],
   "source": [
    "# Predict Target value of Test Data\n",
    "y_Test = fit.predict(X_Test)"
   ]
  },
  {
   "cell_type": "code",
   "execution_count": 34,
   "id": "9376e364",
   "metadata": {
    "scrolled": true
   },
   "outputs": [],
   "source": [
    "X_Test['TARGET'] = y_Test"
   ]
  },
  {
   "cell_type": "code",
   "execution_count": 35,
   "id": "259e9db4",
   "metadata": {},
   "outputs": [
    {
     "data": {
      "text/html": [
       "<div>\n",
       "<style scoped>\n",
       "    .dataframe tbody tr th:only-of-type {\n",
       "        vertical-align: middle;\n",
       "    }\n",
       "\n",
       "    .dataframe tbody tr th {\n",
       "        vertical-align: top;\n",
       "    }\n",
       "\n",
       "    .dataframe thead th {\n",
       "        text-align: right;\n",
       "    }\n",
       "</style>\n",
       "<table border=\"1\" class=\"dataframe\">\n",
       "  <thead>\n",
       "    <tr style=\"text-align: right;\">\n",
       "      <th></th>\n",
       "      <th>POSTED BY</th>\n",
       "      <th>UNDER CONSTRUCTION</th>\n",
       "      <th>RERA</th>\n",
       "      <th>BHK NO</th>\n",
       "      <th>BHK OR RK</th>\n",
       "      <th>SQUARE FT</th>\n",
       "      <th>READY TO MOVE</th>\n",
       "      <th>RESALE</th>\n",
       "      <th>LONGITUDE</th>\n",
       "      <th>LATITUDE</th>\n",
       "      <th>TARGET</th>\n",
       "    </tr>\n",
       "  </thead>\n",
       "  <tbody>\n",
       "    <tr>\n",
       "      <th>0</th>\n",
       "      <td>2</td>\n",
       "      <td>0</td>\n",
       "      <td>0</td>\n",
       "      <td>1</td>\n",
       "      <td>0</td>\n",
       "      <td>-0.013512</td>\n",
       "      <td>1</td>\n",
       "      <td>1</td>\n",
       "      <td>-0.004215</td>\n",
       "      <td>-0.383302</td>\n",
       "      <td>-29.285568</td>\n",
       "    </tr>\n",
       "    <tr>\n",
       "      <th>1</th>\n",
       "      <td>1</td>\n",
       "      <td>1</td>\n",
       "      <td>1</td>\n",
       "      <td>2</td>\n",
       "      <td>0</td>\n",
       "      <td>-0.011959</td>\n",
       "      <td>0</td>\n",
       "      <td>0</td>\n",
       "      <td>-0.375779</td>\n",
       "      <td>-0.373345</td>\n",
       "      <td>604.928489</td>\n",
       "    </tr>\n",
       "    <tr>\n",
       "      <th>2</th>\n",
       "      <td>1</td>\n",
       "      <td>0</td>\n",
       "      <td>0</td>\n",
       "      <td>2</td>\n",
       "      <td>0</td>\n",
       "      <td>-0.009173</td>\n",
       "      <td>1</td>\n",
       "      <td>1</td>\n",
       "      <td>0.211063</td>\n",
       "      <td>1.145002</td>\n",
       "      <td>55.158448</td>\n",
       "    </tr>\n",
       "    <tr>\n",
       "      <th>3</th>\n",
       "      <td>1</td>\n",
       "      <td>0</td>\n",
       "      <td>0</td>\n",
       "      <td>3</td>\n",
       "      <td>0</td>\n",
       "      <td>-0.008300</td>\n",
       "      <td>1</td>\n",
       "      <td>1</td>\n",
       "      <td>0.922522</td>\n",
       "      <td>-0.132146</td>\n",
       "      <td>143.845060</td>\n",
       "    </tr>\n",
       "    <tr>\n",
       "      <th>4</th>\n",
       "      <td>2</td>\n",
       "      <td>0</td>\n",
       "      <td>0</td>\n",
       "      <td>1</td>\n",
       "      <td>0</td>\n",
       "      <td>-0.014211</td>\n",
       "      <td>1</td>\n",
       "      <td>1</td>\n",
       "      <td>0.228509</td>\n",
       "      <td>-0.400895</td>\n",
       "      <td>-34.600734</td>\n",
       "    </tr>\n",
       "    <tr>\n",
       "      <th>...</th>\n",
       "      <td>...</td>\n",
       "      <td>...</td>\n",
       "      <td>...</td>\n",
       "      <td>...</td>\n",
       "      <td>...</td>\n",
       "      <td>...</td>\n",
       "      <td>...</td>\n",
       "      <td>...</td>\n",
       "      <td>...</td>\n",
       "      <td>...</td>\n",
       "      <td>...</td>\n",
       "    </tr>\n",
       "    <tr>\n",
       "      <th>68715</th>\n",
       "      <td>1</td>\n",
       "      <td>0</td>\n",
       "      <td>1</td>\n",
       "      <td>2</td>\n",
       "      <td>0</td>\n",
       "      <td>-0.011614</td>\n",
       "      <td>1</td>\n",
       "      <td>1</td>\n",
       "      <td>-0.341163</td>\n",
       "      <td>-0.391655</td>\n",
       "      <td>116.098907</td>\n",
       "    </tr>\n",
       "    <tr>\n",
       "      <th>68716</th>\n",
       "      <td>1</td>\n",
       "      <td>0</td>\n",
       "      <td>1</td>\n",
       "      <td>3</td>\n",
       "      <td>0</td>\n",
       "      <td>-0.002793</td>\n",
       "      <td>1</td>\n",
       "      <td>1</td>\n",
       "      <td>1.516924</td>\n",
       "      <td>-0.017158</td>\n",
       "      <td>154.551203</td>\n",
       "    </tr>\n",
       "    <tr>\n",
       "      <th>68717</th>\n",
       "      <td>1</td>\n",
       "      <td>1</td>\n",
       "      <td>1</td>\n",
       "      <td>1</td>\n",
       "      <td>0</td>\n",
       "      <td>0.186476</td>\n",
       "      <td>0</td>\n",
       "      <td>0</td>\n",
       "      <td>-0.334350</td>\n",
       "      <td>-0.389190</td>\n",
       "      <td>571.531157</td>\n",
       "    </tr>\n",
       "    <tr>\n",
       "      <th>68718</th>\n",
       "      <td>1</td>\n",
       "      <td>0</td>\n",
       "      <td>0</td>\n",
       "      <td>2</td>\n",
       "      <td>0</td>\n",
       "      <td>-0.009681</td>\n",
       "      <td>1</td>\n",
       "      <td>1</td>\n",
       "      <td>-0.451753</td>\n",
       "      <td>-0.294798</td>\n",
       "      <td>92.825803</td>\n",
       "    </tr>\n",
       "    <tr>\n",
       "      <th>68719</th>\n",
       "      <td>1</td>\n",
       "      <td>0</td>\n",
       "      <td>0</td>\n",
       "      <td>3</td>\n",
       "      <td>0</td>\n",
       "      <td>-0.001968</td>\n",
       "      <td>1</td>\n",
       "      <td>1</td>\n",
       "      <td>-0.350081</td>\n",
       "      <td>-0.398568</td>\n",
       "      <td>179.217199</td>\n",
       "    </tr>\n",
       "  </tbody>\n",
       "</table>\n",
       "<p>68720 rows × 11 columns</p>\n",
       "</div>"
      ],
      "text/plain": [
       "       POSTED BY  UNDER CONSTRUCTION  RERA  BHK NO  BHK OR RK  SQUARE FT  \\\n",
       "0              2                   0     0       1          0  -0.013512   \n",
       "1              1                   1     1       2          0  -0.011959   \n",
       "2              1                   0     0       2          0  -0.009173   \n",
       "3              1                   0     0       3          0  -0.008300   \n",
       "4              2                   0     0       1          0  -0.014211   \n",
       "...          ...                 ...   ...     ...        ...        ...   \n",
       "68715          1                   0     1       2          0  -0.011614   \n",
       "68716          1                   0     1       3          0  -0.002793   \n",
       "68717          1                   1     1       1          0   0.186476   \n",
       "68718          1                   0     0       2          0  -0.009681   \n",
       "68719          1                   0     0       3          0  -0.001968   \n",
       "\n",
       "       READY TO MOVE  RESALE  LONGITUDE  LATITUDE      TARGET  \n",
       "0                  1       1  -0.004215 -0.383302  -29.285568  \n",
       "1                  0       0  -0.375779 -0.373345  604.928489  \n",
       "2                  1       1   0.211063  1.145002   55.158448  \n",
       "3                  1       1   0.922522 -0.132146  143.845060  \n",
       "4                  1       1   0.228509 -0.400895  -34.600734  \n",
       "...              ...     ...        ...       ...         ...  \n",
       "68715              1       1  -0.341163 -0.391655  116.098907  \n",
       "68716              1       1   1.516924 -0.017158  154.551203  \n",
       "68717              0       0  -0.334350 -0.389190  571.531157  \n",
       "68718              1       1  -0.451753 -0.294798   92.825803  \n",
       "68719              1       1  -0.350081 -0.398568  179.217199  \n",
       "\n",
       "[68720 rows x 11 columns]"
      ]
     },
     "execution_count": 35,
     "metadata": {},
     "output_type": "execute_result"
    }
   ],
   "source": [
    "X_Test"
   ]
  },
  {
   "cell_type": "markdown",
   "id": "04c62423",
   "metadata": {},
   "source": [
    "### Predict Train Values Data for Accuracy"
   ]
  },
  {
   "cell_type": "code",
   "execution_count": 36,
   "id": "06f5f1d7",
   "metadata": {},
   "outputs": [],
   "source": [
    "# Predict Train Values and Check Accuracy.\n",
    "y_pred = fit.predict(X_train)"
   ]
  },
  {
   "cell_type": "code",
   "execution_count": 37,
   "id": "46864e32",
   "metadata": {},
   "outputs": [
    {
     "name": "stdout",
     "output_type": "stream",
     "text": [
      "Training Error: 336293.670761881\n",
      "\n",
      "\n",
      "Training Error: 1.829327461204777\n"
     ]
    }
   ],
   "source": [
    "print(\"Training Error:\",mean_squared_error(y_train, y_pred))\n",
    "print('\\n')\n",
    "print(\"Training Error:\",mean_absolute_percentage_error(y_train, y_pred))"
   ]
  }
 ],
 "metadata": {
  "kernelspec": {
   "display_name": "Python 3 (ipykernel)",
   "language": "python",
   "name": "python3"
  },
  "language_info": {
   "codemirror_mode": {
    "name": "ipython",
    "version": 3
   },
   "file_extension": ".py",
   "mimetype": "text/x-python",
   "name": "python",
   "nbconvert_exporter": "python",
   "pygments_lexer": "ipython3",
   "version": "3.9.13"
  }
 },
 "nbformat": 4,
 "nbformat_minor": 5
}
